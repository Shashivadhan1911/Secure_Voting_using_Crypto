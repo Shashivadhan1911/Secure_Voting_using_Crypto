{
  "nbformat": 4,
  "nbformat_minor": 0,
  "metadata": {
    "colab": {
      "provenance": []
    },
    "kernelspec": {
      "name": "python3",
      "display_name": "Python 3"
    },
    "language_info": {
      "name": "python"
    }
  },
  "cells": [
    {
      "cell_type": "code",
      "source": [
        "!pip install phe"
      ],
      "metadata": {
        "colab": {
          "base_uri": "https://localhost:8080/"
        },
        "id": "FsibLnkKQwdr",
        "outputId": "5382f660-8bd5-4aba-f08a-bdfcfd301476"
      },
      "execution_count": null,
      "outputs": [
        {
          "output_type": "stream",
          "name": "stdout",
          "text": [
            "Requirement already satisfied: phe in /usr/local/lib/python3.11/dist-packages (1.5.0)\n"
          ]
        }
      ]
    },
    {
      "cell_type": "code",
      "source": [
        "from cryptography.hazmat.primitives import hashes, serialization\n",
        "from cryptography.hazmat.primitives.asymmetric import rsa, padding\n",
        "from phe import paillier\n",
        "import base64\n",
        "from functools import reduce"
      ],
      "metadata": {
        "id": "_UWGCYmnRSGi"
      },
      "execution_count": null,
      "outputs": []
    },
    {
      "cell_type": "markdown",
      "source": [
        "# ------------------ SETUP PHASE ------------------"
      ],
      "metadata": {
        "id": "rCRN3jlnRWA9"
      }
    },
    {
      "cell_type": "code",
      "source": [
        "print(\"[Setup Phase] Generating keys...\")\n",
        "\n",
        "# Election authority generates Paillier keypair for homomorphic encryption\n",
        "public_key, private_key = paillier.generate_paillier_keypair()\n",
        "\n",
        "# Simulate registration of 3 voters, each with RSA keypair for signing\n",
        "voter_keys = []\n",
        "for i in range(3):\n",
        "    private = rsa.generate_private_key(public_exponent=65537, key_size=2048)\n",
        "    public = private.public_key()\n",
        "    voter_keys.append((private, public))\n",
        "    print(f\"Voter {i+1} registered with RSA keypair.\")"
      ],
      "metadata": {
        "colab": {
          "base_uri": "https://localhost:8080/"
        },
        "id": "P7sdWE2eRUZp",
        "outputId": "862e0946-9557-4402-8dd0-cedadceb71d8"
      },
      "execution_count": null,
      "outputs": [
        {
          "output_type": "stream",
          "name": "stdout",
          "text": [
            "[Setup Phase] Generating keys...\n",
            "Voter 1 registered with RSA keypair.\n",
            "Voter 2 registered with RSA keypair.\n",
            "Voter 3 registered with RSA keypair.\n"
          ]
        }
      ]
    },
    {
      "cell_type": "markdown",
      "source": [
        "# ------------------ VOTING PHASE ------------------"
      ],
      "metadata": {
        "id": "LunM6VKDRaZ5"
      }
    },
    {
      "cell_type": "code",
      "source": [
        "print(\"\\n[Voting Phase] Voters cast encrypted and signed votes...\")\n",
        "\n",
        "# Simulated votes (1 for YES, 0 for NO)\n",
        "votes = [1, 0, 1]  # Voter 1: YES, Voter 2: NO, Voter 3: YES\n",
        "encrypted_votes = []\n",
        "signed_votes = []\n",
        "\n",
        "for i, vote in enumerate(votes):\n",
        "    # Encrypt the vote using Paillier\n",
        "    enc_vote = public_key.encrypt(vote)\n",
        "    encrypted_votes.append(enc_vote)\n",
        "\n",
        "    # Sign the vote using voter's RSA private key\n",
        "    signer = voter_keys[i][0]\n",
        "    signature = signer.sign(\n",
        "        str(vote).encode(),\n",
        "        padding.PSS(mgf=padding.MGF1(hashes.SHA256()), salt_length=padding.PSS.MAX_LENGTH),\n",
        "        hashes.SHA256()\n",
        "    )\n",
        "    signed_votes.append((enc_vote, signature))\n",
        "    print(f\"Voter {i+1} cast vote: {vote} (encrypted and signed)\")"
      ],
      "metadata": {
        "colab": {
          "base_uri": "https://localhost:8080/"
        },
        "id": "_IPbrLEzRYnp",
        "outputId": "e9ca386e-3aef-4bb2-a185-25cbb1f0544c"
      },
      "execution_count": null,
      "outputs": [
        {
          "output_type": "stream",
          "name": "stdout",
          "text": [
            "\n",
            "[Voting Phase] Voters cast encrypted and signed votes...\n",
            "Voter 1 cast vote: 1 (encrypted and signed)\n",
            "Voter 2 cast vote: 0 (encrypted and signed)\n",
            "Voter 3 cast vote: 1 (encrypted and signed)\n"
          ]
        }
      ]
    },
    {
      "cell_type": "markdown",
      "source": [
        "# ------------------ VERIFICATION PHASE ------------------"
      ],
      "metadata": {
        "id": "huA5kx7rRe6B"
      }
    },
    {
      "cell_type": "code",
      "source": [
        "print(\"\\n[Verification Phase] Verifying signatures of votes...\")\n",
        "\n",
        "def verify_vote(index, enc_vote, signature):\n",
        "    verifier = voter_keys[index][1]\n",
        "    try:\n",
        "        verifier.verify(\n",
        "            signature,\n",
        "            str(votes[index]).encode(),\n",
        "            padding.PSS(mgf=padding.MGF1(hashes.SHA256()), salt_length=padding.PSS.MAX_LENGTH),\n",
        "            hashes.SHA256()\n",
        "        )\n",
        "        print(f\"Vote {index+1} signature verified.\")\n",
        "        return True\n",
        "    except Exception as e:\n",
        "        print(f\"Vote {index+1} failed verification: {e}\")\n",
        "        return False\n",
        "\n",
        "valid_votes = []\n",
        "for i, (enc_vote, sig) in enumerate(signed_votes):\n",
        "    if verify_vote(i, enc_vote, sig):\n",
        "        valid_votes.append(enc_vote)"
      ],
      "metadata": {
        "colab": {
          "base_uri": "https://localhost:8080/"
        },
        "id": "AsPkYZhARdY3",
        "outputId": "61a97b27-5a4c-4f82-e402-d834eb37abcb"
      },
      "execution_count": null,
      "outputs": [
        {
          "output_type": "stream",
          "name": "stdout",
          "text": [
            "\n",
            "[Verification Phase] Verifying signatures of votes...\n",
            "Vote 1 signature verified.\n",
            "Vote 2 signature verified.\n",
            "Vote 3 signature verified.\n"
          ]
        }
      ]
    },
    {
      "cell_type": "markdown",
      "source": [
        "# ------------------ TALLYING PHASE ------------------"
      ],
      "metadata": {
        "id": "1gZ80BF6RiQE"
      }
    },
    {
      "cell_type": "code",
      "source": [
        "\n",
        "\n",
        "print(\"\\n[Tallying Phase] Aggregating and decrypting votes...\")\n",
        "\n",
        "# Homomorphically add all valid encrypted votes\n",
        "total_encrypted = reduce(lambda x, y: x + y, valid_votes)\n",
        "\n",
        "# Decrypt final result\n",
        "final_tally = private_key.decrypt(total_encrypted)\n",
        "\n",
        "print(f\"\\nFinal Tally: {final_tally} YES vote(s) out of {len(votes)} total votes\")"
      ],
      "metadata": {
        "colab": {
          "base_uri": "https://localhost:8080/"
        },
        "id": "A-FkypWzRg7M",
        "outputId": "d5656d47-e445-4ec0-e187-098b5f62c0bd"
      },
      "execution_count": null,
      "outputs": [
        {
          "output_type": "stream",
          "name": "stdout",
          "text": [
            "\n",
            "[Tallying Phase] Aggregating and decrypting votes...\n",
            "\n",
            "Final Tally: 2 YES vote(s) out of 3 total votes\n"
          ]
        }
      ]
    }
  ]
}